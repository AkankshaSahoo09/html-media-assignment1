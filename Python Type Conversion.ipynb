{
 "cells": [
  {
   "cell_type": "code",
   "execution_count": 1,
   "id": "414a08ec-9906-43b9-a080-377b7a3d247a",
   "metadata": {},
   "outputs": [
    {
     "data": {
      "text/plain": [
       "57.0"
      ]
     },
     "execution_count": 1,
     "metadata": {},
     "output_type": "execute_result"
    }
   ],
   "source": [
    "#Convert a integer to a floating point number\n",
    "a=57\n",
    "float(a)"
   ]
  },
  {
   "cell_type": "code",
   "execution_count": 2,
   "id": "338ceee2-3f01-49f7-8b41-ce0a892f3b32",
   "metadata": {},
   "outputs": [
    {
     "data": {
      "text/plain": [
       "4566"
      ]
     },
     "execution_count": 2,
     "metadata": {},
     "output_type": "execute_result"
    }
   ],
   "source": [
    "#Convert float to an integer\n",
    "b= 4566.768\n",
    "int(b)"
   ]
  },
  {
   "cell_type": "code",
   "execution_count": 2,
   "id": "27253798-701c-4478-845a-6196849b2b4f",
   "metadata": {},
   "outputs": [
    {
     "data": {
      "text/plain": [
       "'573'"
      ]
     },
     "execution_count": 2,
     "metadata": {},
     "output_type": "execute_result"
    }
   ],
   "source": [
    "#convert integer to a string\n",
    "a=573\n",
    "str(a)"
   ]
  },
  {
   "cell_type": "code",
   "execution_count": 3,
   "id": "1c2bf460-b0c8-41b8-b5b2-57ef1d53f8cf",
   "metadata": {},
   "outputs": [
    {
     "name": "stdout",
     "output_type": "stream",
     "text": [
      "(1, 3, 'sky', (5+3j))\n"
     ]
    }
   ],
   "source": [
    "#Convert a list into a tuple\n",
    "l=[1,3,'sky',5+3j]\n",
    "tup=tuple(l)\n",
    "print(tup)"
   ]
  },
  {
   "cell_type": "code",
   "execution_count": 4,
   "id": "557b5cfb-f4d7-48d9-9b36-652fcdbd986e",
   "metadata": {},
   "outputs": [
    {
     "name": "stdout",
     "output_type": "stream",
     "text": [
      "[4, 7.9, 'book', (9+6j)]\n"
     ]
    }
   ],
   "source": [
    "#convert tuple to list\n",
    "tup=(4,7.9,'book',9+6j)\n",
    "l=list(tup)\n",
    "print(l)"
   ]
  },
  {
   "cell_type": "code",
   "execution_count": 5,
   "id": "aea5e32b-f04e-4070-acee-a774aa2cf22f",
   "metadata": {},
   "outputs": [
    {
     "name": "stdout",
     "output_type": "stream",
     "text": [
      "0b111001000\n"
     ]
    }
   ],
   "source": [
    "#convert decimal num to binary num\n",
    "decimal_num=456\n",
    "binary_num=bin(decimal_num)\n",
    "print(binary_num)"
   ]
  },
  {
   "cell_type": "code",
   "execution_count": 6,
   "id": "666249dc-b53f-4fac-920e-16361c3cfeed",
   "metadata": {},
   "outputs": [
    {
     "name": "stdout",
     "output_type": "stream",
     "text": [
      "23 is non-zero True\n"
     ]
    }
   ],
   "source": [
    "#convert a nonzero num to boolean num\n",
    "a=23\n",
    "b=bool(a)\n",
    "print(a,'is non-zero',b)"
   ]
  },
  {
   "cell_type": "code",
   "execution_count": null,
   "id": "48882bbb-5ad9-4a5c-8b93-56023846bc01",
   "metadata": {},
   "outputs": [],
   "source": []
  }
 ],
 "metadata": {
  "kernelspec": {
   "display_name": "Python 3 (ipykernel)",
   "language": "python",
   "name": "python3"
  },
  "language_info": {
   "codemirror_mode": {
    "name": "ipython",
    "version": 3
   },
   "file_extension": ".py",
   "mimetype": "text/x-python",
   "name": "python",
   "nbconvert_exporter": "python",
   "pygments_lexer": "ipython3",
   "version": "3.10.8"
  }
 },
 "nbformat": 4,
 "nbformat_minor": 5
}
